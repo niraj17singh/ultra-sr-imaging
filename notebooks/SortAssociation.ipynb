{
 "cells": [
  {
   "cell_type": "code",
   "execution_count": 1,
   "id": "ac8bf950",
   "metadata": {},
   "outputs": [],
   "source": [
    "import numpy as np\n",
    "import pandas as pd\n",
    "from sort.sort import Sort\n",
    "import matplotlib.pyplot as plt\n",
    "import matplotlib.patches as patches\n",
    "from PIL import Image\n",
    "mot_tracker = Sort()"
   ]
  },
  {
   "cell_type": "code",
   "execution_count": 2,
   "id": "0251da8d",
   "metadata": {},
   "outputs": [],
   "source": [
    "bb_x_width = 10\n",
    "bb_y_width = 10\n",
    "\n",
    "def transform(df):\n",
    "    df['x'] = ( 0.0075 + df[\"x\"] ) / 2.9296875e-05\n",
    "    df['y'] = ( -0.0225 + df[\"y\"] ) / 2.9296875e-05\n",
    "    # df['x'] = 256 + (df[\"x\"] * 1000)*512/16 - 4\n",
    "    # df['y'] = 256 - (30- df[\"y\"]*1000)*512/16 -4\n",
    "    return df\n",
    "def createBB(data):\n",
    "    data['x1'] = data['x'] - bb_x_width/2\n",
    "    data['y1'] = data['y'] - bb_y_width/2\n",
    "    data['x2'] = data['x'] + bb_x_width/2\n",
    "    data['y2'] = data['y'] + bb_y_width/2\n",
    "    data['score'] = 1.0\n",
    "    return data\n",
    "def get_detections(df):\n",
    "    coords = []\n",
    "    for row in df.iterrows():\n",
    "        coords.append([row[1]['x1'], row[1]['y1'], row[1]['x2'], row[1]['y2'], row[1]['score']])\n",
    "    return np.array(coords)\n",
    "def get_detections_per_frame(data, frame_no=1):\n",
    "    df = data[data['frame'] == frame_no]\n",
    "    detections = get_detections(df)\n",
    "    return detections"
   ]
  },
  {
   "cell_type": "code",
   "execution_count": 3,
   "id": "023babaf",
   "metadata": {},
   "outputs": [],
   "source": [
    "# data = pd.read_csv(\"../data/detected_centLocs.csv\")\n",
    "data = pd.read_csv(\"../data/ground_truth.txt\", header=None)\n",
    "data.columns = ['frame', 'id', 'x', 'z', 'y']\n",
    "\n",
    "# print(data.head())\n",
    "data = transform(data)\n",
    "# print(data.head())\n",
    "data = createBB(data)\n",
    "# print(data.head())"
   ]
  },
  {
   "cell_type": "code",
   "execution_count": 4,
   "id": "0a3dfda4",
   "metadata": {},
   "outputs": [],
   "source": [
    "# # Create figure and axes\n",
    "# fig, ax = plt.subplots()\n",
    "\n",
    "# max_trackers = 1000\n",
    "# existence = np.zeros(max_trackers, dtype = np.int32)\n",
    "# tt = pd.read_csv(\"terminated_trackers_det.csv\", header=None).to_numpy()\n",
    "# not_detected = pd.read_csv(\"ids_not_detected.csv\", header=None).to_numpy()\n",
    "\n",
    "# # Display the image\n",
    "# bbs_all = np.empty((0,5))\n",
    "# for frame_no in range(20):\n",
    "#     gt_at_frame = data[data['frame']==frame_no]\n",
    "    \n",
    "#     gt_bb_at_frame = get_detections_per_frame(data, frame_no)\n",
    "#     track_bbs_ids = mot_tracker.update(gt_bb_at_frame)\n",
    "#     bbs_all = np.append(bbs_all, track_bbs_ids, axis=0)\n",
    "#     # print(track_bbs_ids)\n",
    "\n",
    "#     # Create a Rectangle patch\n",
    "#     for i in range(len(track_bbs_ids)):\n",
    "#         anchor_x = track_bbs_ids[i][0]\n",
    "#         anchor_y = track_bbs_ids[i][1]\n",
    "#         rect = patches.Rectangle((anchor_x, anchor_y), bb_x_width, bb_y_width, linewidth=1, edgecolor='r', facecolor='none')\n",
    "#         # for j in range(max_trackers):\n",
    "#         #     if track_bbs_ids[i][-1] == j+1:\n",
    "#         #         existence[j] += 1\n",
    "#         if track_bbs_ids[i][-1] in tt:\n",
    "#             ax.add_patch(rect)\n",
    "#         ax.plot(gt_at_frame.iloc[i]['x'],gt_at_frame.iloc[i]['y'], color = 'b', marker = '+')\n",
    "\n",
    "# # Add the patch to the Axes\n",
    "# im = Image.open(f'../data/frames/frame{frame_no}.jpg')\n",
    "# ax.imshow(im)\n",
    "# plt.show()\n",
    "\n",
    "# # pd.DataFrame(bbs_all).to_csv(\"gt_bb.csv\")\n",
    "# # pd.DataFrame(np.where(existence!=20)[0] + 1).to_csv(\"terminated_trackers_det.csv\", index=False, header=False)"
   ]
  },
  {
   "cell_type": "code",
   "execution_count": 5,
   "id": "41aedfaf",
   "metadata": {},
   "outputs": [],
   "source": [
    "# Create figure and axes\n",
    "fig, ax = plt.subplots()\n",
    "\n",
    "not_detected = pd.read_csv(\"ids_not_detected.txt\", header=None).to_numpy()\n",
    "\n",
    "# Display the image\n",
    "bbs_all = np.empty((0,5))\n",
    "for frame_no in range(20):\n",
    "    gt_at_frame = data[data['frame']==frame_no]\n",
    "\n",
    "    # Create a Rectangle patch\n",
    "    for i in range(len(gt_at_frame)):\n",
    "        if gt_at_frame.iloc[i]['id'] in not_detected:\n",
    "            ax.plot(gt_at_frame.iloc[i]['x'],gt_at_frame.iloc[i]['y'], color = 'r', marker = '+')\n",
    "        else:\n",
    "            ax.plot(gt_at_frame.iloc[i]['x'],gt_at_frame.iloc[i]['y'], color = 'b', marker = '+')\n",
    "    im = Image.open(f'../data/frames/frame{frame_no}.jpg')\n",
    "    ax.imshow(im)\n",
    "# Add the patch to the Axes\n",
    "plt.show()\n",
    "\n",
    "# pd.DataFrame(bbs_all).to_csv(\"gt_bb.csv\")\n",
    "# pd.DataFrame(np.where(existence!=20)[0] + 1).to_csv(\"terminated_trackers_det.csv\", index=False, header=False)"
   ]
  },
  {
   "cell_type": "code",
   "execution_count": 6,
   "id": "651ba4a2",
   "metadata": {},
   "outputs": [],
   "source": [
    "fig, ax = plt.subplots()\n",
    "for j in range(19):\n",
    "    frame_no = j\n",
    "    im = Image.open(f'../data/frames/frame{frame_no}.jpg')\n",
    "    ax.imshow(im)\n",
    "plt.show()"
   ]
  },
  {
   "cell_type": "code",
   "execution_count": null,
   "id": "9f9c8b1d",
   "metadata": {},
   "outputs": [],
   "source": []
  }
 ],
 "metadata": {
  "interpreter": {
   "hash": "a976ce16287d6959a1576a5494d853f1cdab3171185a08d0ead07fa199bab37e"
  },
  "kernelspec": {
   "display_name": "Python 3.8.13 ('saket')",
   "language": "python",
   "name": "python3"
  },
  "language_info": {
   "codemirror_mode": {
    "name": "ipython",
    "version": 3
   },
   "file_extension": ".py",
   "mimetype": "text/x-python",
   "name": "python",
   "nbconvert_exporter": "python",
   "pygments_lexer": "ipython3",
   "version": "3.8.13"
  }
 },
 "nbformat": 4,
 "nbformat_minor": 5
}
