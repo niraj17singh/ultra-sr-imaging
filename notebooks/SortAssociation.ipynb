{
 "cells": [
  {
   "cell_type": "code",
   "execution_count": 1,
   "id": "ac8bf950",
   "metadata": {},
   "outputs": [],
   "source": [
    "import numpy as np\n",
    "import pandas as pd\n",
    "from sort.sort import Sort\n",
    "import matplotlib.pyplot as plt\n",
    "import matplotlib.patches as patches\n",
    "from PIL import Image\n",
    "mot_tracker = Sort()"
   ]
  },
  {
   "cell_type": "code",
   "execution_count": 2,
   "id": "0251da8d",
   "metadata": {},
   "outputs": [],
   "source": [
    "bb_x_width = 10\n",
    "bb_y_width = 10\n",
    "\n",
    "def transform(df):\n",
    "    df['x'] = ( 0.0075 + df[\"x\"] ) / 2.9296875e-05\n",
    "    df['y'] = ( -0.0225 + df[\"y\"] ) / 2.9296875e-05\n",
    "    # df['x'] = 256 + (df[\"x\"] * 1000)*512/16 - 4\n",
    "    # df['y'] = 256 - (30- df[\"y\"]*1000)*512/16 -4\n",
    "    return df\n",
    "def createBB(data):\n",
    "    data['x1'] = data['x'] - bb_x_width/2\n",
    "    data['y1'] = data['y'] - bb_y_width/2\n",
    "    data['x2'] = data['x'] + bb_x_width/2\n",
    "    data['y2'] = data['y'] + bb_y_width/2\n",
    "    data['score'] = 1.0\n",
    "    return data\n",
    "def get_detections(df):\n",
    "    coords = []\n",
    "    for row in df.iterrows():\n",
    "        coords.append([row[1]['x1'], row[1]['y1'], row[1]['x2'], row[1]['y2'], row[1]['score']])\n",
    "    return np.array(coords)\n",
    "def get_detections_per_frame(data, frame_no=1):\n",
    "    df = data[data['frame'] == frame_no]\n",
    "    detections = get_detections(df)\n",
    "    return detections"
   ]
  },
  {
   "cell_type": "code",
   "execution_count": 3,
   "id": "023babaf",
   "metadata": {},
   "outputs": [],
   "source": [
    "data = pd.read_csv(\"../data/detected_centLocs.csv\")\n",
    "# data = pd.read_csv(\"../data/ground_truth.txt\", header=None)\n",
    "# data.columns = ['frame', 'id', 'x', 'z', 'y']\n",
    "# print(data.head())\n",
    "data = transform(data)\n",
    "# print(data.head())\n",
    "data = createBB(data)\n",
    "# print(data.head())"
   ]
  },
  {
   "cell_type": "code",
   "execution_count": 4,
   "id": "0a3dfda4",
   "metadata": {},
   "outputs": [],
   "source": [
    "# Create figure and axes\n",
    "fig, ax = plt.subplots()\n",
    "\n",
    "# Display the image\n",
    "\n",
    "for frame_no in range(20):\n",
    "    gt_at_frame = data[data['frame']==frame_no]\n",
    "    \n",
    "    gt_bb_at_frame = get_detections_per_frame(data, frame_no)\n",
    "    track_bbs_ids = mot_tracker.update(gt_bb_at_frame)\n",
    "    # print(track_bbs_ids)\n",
    "\n",
    "    # Create a Rectangle patch\n",
    "    for i in range(len(track_bbs_ids)):\n",
    "        anchor_x = track_bbs_ids[i][0]\n",
    "        anchor_y = track_bbs_ids[i][1]\n",
    "        rect = patches.Rectangle((anchor_x, anchor_y), bb_x_width, bb_y_width, linewidth=1, edgecolor='r', facecolor='none')\n",
    "        if track_bbs_ids[i][-1] == 50:\n",
    "            ax.add_patch(rect)\n",
    "        ax.plot(gt_at_frame.iloc[i]['x'],gt_at_frame.iloc[i]['y'], color = 'b', marker = '+')\n",
    "\n",
    "\n",
    "# Add the patch to the Axes\n",
    "im = Image.open(f'../data/frames/frame{frame_no}.jpg')\n",
    "ax.imshow(im)\n",
    "plt.show()"
   ]
  },
  {
   "cell_type": "code",
   "execution_count": 5,
   "id": "40119ddf",
   "metadata": {},
   "outputs": [],
   "source": [
    "# for i in range(len(data_at_frame)):\n",
    "#     anchor_x = data_at_frame.iloc[i]['x'] - bb_x_width/2\n",
    "#     anchor_y = data_at_frame.iloc[i]['y'] - bb_y_width/2\n",
    "# det_per_frame"
   ]
  },
  {
   "cell_type": "code",
   "execution_count": null,
   "id": "0b6e99a3",
   "metadata": {},
   "outputs": [],
   "source": []
  }
 ],
 "metadata": {
  "interpreter": {
   "hash": "a976ce16287d6959a1576a5494d853f1cdab3171185a08d0ead07fa199bab37e"
  },
  "kernelspec": {
   "display_name": "Python 3.8.13 ('saket')",
   "language": "python",
   "name": "python3"
  },
  "language_info": {
   "codemirror_mode": {
    "name": "ipython",
    "version": 3
   },
   "file_extension": ".py",
   "mimetype": "text/x-python",
   "name": "python",
   "nbconvert_exporter": "python",
   "pygments_lexer": "ipython3",
   "version": "3.8.13"
  }
 },
 "nbformat": 4,
 "nbformat_minor": 5
}
